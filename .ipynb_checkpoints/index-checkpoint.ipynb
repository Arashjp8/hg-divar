{
 "cells": [
  {
   "cell_type": "code",
   "execution_count": 28,
   "metadata": {},
   "outputs": [],
   "source": [
    "from datasets import load_dataset\n",
    "import pandas as pd\n",
    "\n",
    "dataset = load_dataset(\"divarofficial/real_estate_ads\")"
   ]
  },
  {
   "cell_type": "code",
   "execution_count": 29,
   "metadata": {},
   "outputs": [
    {
     "name": "stdout",
     "output_type": "stream",
     "text": [
      "{'cat2_slug': ['temporary-rent', 'residential-sell', 'residential-rent', 'commercial-rent', 'residential-sell'], 'cat3_slug': ['villa', 'apartment-sell', 'apartment-rent', 'office-rent', 'apartment-sell'], 'city_slug': ['karaj', 'tehran', 'tehran', 'tehran', 'mashhad'], 'neighborhood_slug': ['mehrshahr', 'gholhak', 'tohid', 'elahiyeh', 'emamreza'], 'created_at_month': ['2024-08-01 00:00:00', '2024-05-01 00:00:00', '2024-10-01 00:00:00', '2024-06-01 00:00:00', '2024-05-01 00:00:00'], 'user_type': ['مشاور املاک', 'مشاور املاک', None, None, 'مشاور املاک'], 'description': ['۵۰۰متر\\n۲۰۰متر بنا دوبلکس\\n۳خواب\\nاستخر آبگرم داخل\\nسیستم صوتی حرفه ای\\nسرگرمی ایرهاکی\\nبرای اطلاعات بیشتر تماس حاصل فرماید', 'دسترسی عالی به مترو و شریعتی \\nمشاعات تمیز \\nبدون ایراد \\nآخرین بازدید \\nفروشنده واقعی\\nشایان', 'تخلیه پایان ماه', 'فرشته تاپ لوکیشن\\n۹۰ متر موقعیت اداری\\nیک اتاق مستر\\nدید و وییو مشجر\\nروبه باغ\\nنور و نقشه عالی\\nلابی و لابی من و سرایدار مقیم\\nلوکس و شیک\\nمدرن\\nهمه مشاغل\\nبازدید = با قرار داد\\nفایل کاملا شخصی\\nکلید نزد املاک است\\nمجید پارسا', 'هلدینگ ساختمانی اکبری\\n\\nهمراه شما هستیم برای خریدی مطمئن\\n\\nکلید موجود اولین بازدید ۱۰۰ در ۱۰۰ پسند\\n\\nمشخصات ملک:\\n✨صفر کلید نخورده\\n\\n✨مشاعات تمام سنگ\\n\\n✨واحد رو به آفتاب\\n\\n✨پذیرایی سرتاسر پنجره\\n\\n✨اتاق ها هر دو\\u200c نورگیر همرا به تراس رویایی\\n\\n✨آشپزخانه تمام چوب با نقشه عالی\\n——————————————————\\n\\n✨با ارائه مشاوره تخصصی املاک در خدمت شما هستیم \\nمشاور شما : ایرانی\\n( ۲۴ ساعته پاسخگوی شما عزیزان هستم)✨\\n\\n⁉️برای دریافت اطلاعات بیشتر ،نحوه پرداخت و بازدید☎️ تماس حاصل فرمایید'], 'title': ['باغ ویلا اجاره روزانه استخر داخل لشکرآباد سهیلیه', '۶۰ متر قلهک فول امکانات', 'آپارتمان ۳ خوابه ۱۳۲ متر', 'فرشته ۹۰ متر دفتر کار مدرن موقعیت اداری', '۱۱۵ متری/شمالی رو به آفتاب/اکبری'], 'rent_mode': [None, None, 'مقطوع', 'مقطوع', None], 'rent_value': [None, None, 26000000.0, 95000000.0, None], 'rent_to_single': [None, None, None, None, None], 'rent_type': [None, None, None, None, None], 'price_mode': [None, 'مقطوع', None, None, 'مقطوع'], 'price_value': [None, 8500000000.0, None, None, 5750000000.0], 'credit_mode': [None, None, 'مقطوع', 'مقطوع', None], 'credit_value': [None, None, 750000000.0, 950000000.0, None], 'rent_credit_transform': [None, None, False, False, None], 'transformable_price': [None, None, False, False, None], 'transformable_credit': [None, None, 750000000.0, 950000000.0, None], 'transformed_credit': [None, None, None, None, None], 'transformable_rent': [None, None, 26000000.0, 95000000.0, None], 'transformed_rent': [None, None, None, None, None], 'land_size': [None, None, None, None, None], 'building_size': [500.0, 60.0, 132.0, 90.0, 115.0], 'deed_type': [None, None, None, None, 'single_page'], 'has_business_deed': [None, None, None, None, None], 'floor': [None, '3', '3', '4', '4'], 'rooms_count': ['سه', 'یک', 'سه', 'یک', 'دو'], 'total_floors_count': [None, None, None, None, '6'], 'unit_per_floor': [None, None, None, None, None], 'has_balcony': [None, None, None, None, 'true'], 'has_elevator': [None, True, True, True, True], 'has_warehouse': [None, True, True, False, True], 'has_parking': [None, True, True, True, True], 'construction_year': [None, '۱۳۸۴', '۱۴۰۱', '۱۴۰۰', '۱۴۰۳'], 'is_rebuilt': [None, None, False, None, None], 'has_water': [None, None, None, None, None], 'has_warm_water_provider': [None, None, None, None, 'package'], 'has_electricity': [None, None, None, None, None], 'has_gas': [None, None, None, None, None], 'has_heating_system': [None, None, None, None, 'shoofaj'], 'has_cooling_system': [None, None, None, None, 'air_conditioner'], 'has_restroom': [None, None, None, None, 'squat_seat'], 'has_security_guard': [None, None, None, None, None], 'has_barbecue': [None, None, None, None, None], 'building_direction': [None, None, None, None, 'north'], 'has_pool': [None, None, None, None, None], 'has_jacuzzi': [None, None, None, None, None], 'has_sauna': [None, None, None, None, None], 'floor_material': [None, None, None, None, 'ceramic'], 'property_type': [None, None, None, None, None], 'regular_person_capacity': [4.0, None, None, None, None], 'extra_person_capacity': ['6', None, None, None, None], 'cost_per_extra_person': [350000.0, None, None, None, None], 'rent_price_on_regular_days': [1500000.0, None, None, None, None], 'rent_price_on_special_days': [3500000000.0, None, None, None, None], 'rent_price_at_weekends': [3500000.0, None, None, None, None], 'location_latitude': [35.81168365478516, None, 35.70386505126953, None, None], 'location_longitude': [50.93659973144531, None, 51.37345886230469, None, None], 'location_radius': [500.0, 500.0, None, None, None]}\n",
      "Dataset size: 1000000 rows\n",
      "Features: {'cat2_slug': Value(dtype='string', id=None), 'cat3_slug': Value(dtype='string', id=None), 'city_slug': Value(dtype='string', id=None), 'neighborhood_slug': Value(dtype='string', id=None), 'created_at_month': Value(dtype='string', id=None), 'user_type': Value(dtype='string', id=None), 'description': Value(dtype='string', id=None), 'title': Value(dtype='string', id=None), 'rent_mode': Value(dtype='string', id=None), 'rent_value': Value(dtype='float64', id=None), 'rent_to_single': Value(dtype='float64', id=None), 'rent_type': Value(dtype='string', id=None), 'price_mode': Value(dtype='string', id=None), 'price_value': Value(dtype='float64', id=None), 'credit_mode': Value(dtype='string', id=None), 'credit_value': Value(dtype='float64', id=None), 'rent_credit_transform': Value(dtype='bool', id=None), 'transformable_price': Value(dtype='bool', id=None), 'transformable_credit': Value(dtype='float64', id=None), 'transformed_credit': Value(dtype='float64', id=None), 'transformable_rent': Value(dtype='float64', id=None), 'transformed_rent': Value(dtype='float64', id=None), 'land_size': Value(dtype='float64', id=None), 'building_size': Value(dtype='float64', id=None), 'deed_type': Value(dtype='string', id=None), 'has_business_deed': Value(dtype='bool', id=None), 'floor': Value(dtype='string', id=None), 'rooms_count': Value(dtype='string', id=None), 'total_floors_count': Value(dtype='string', id=None), 'unit_per_floor': Value(dtype='string', id=None), 'has_balcony': Value(dtype='string', id=None), 'has_elevator': Value(dtype='bool', id=None), 'has_warehouse': Value(dtype='bool', id=None), 'has_parking': Value(dtype='bool', id=None), 'construction_year': Value(dtype='string', id=None), 'is_rebuilt': Value(dtype='bool', id=None), 'has_water': Value(dtype='bool', id=None), 'has_warm_water_provider': Value(dtype='string', id=None), 'has_electricity': Value(dtype='bool', id=None), 'has_gas': Value(dtype='bool', id=None), 'has_heating_system': Value(dtype='string', id=None), 'has_cooling_system': Value(dtype='string', id=None), 'has_restroom': Value(dtype='string', id=None), 'has_security_guard': Value(dtype='bool', id=None), 'has_barbecue': Value(dtype='bool', id=None), 'building_direction': Value(dtype='string', id=None), 'has_pool': Value(dtype='bool', id=None), 'has_jacuzzi': Value(dtype='bool', id=None), 'has_sauna': Value(dtype='bool', id=None), 'floor_material': Value(dtype='string', id=None), 'property_type': Value(dtype='string', id=None), 'regular_person_capacity': Value(dtype='float64', id=None), 'extra_person_capacity': Value(dtype='string', id=None), 'cost_per_extra_person': Value(dtype='float64', id=None), 'rent_price_on_regular_days': Value(dtype='float64', id=None), 'rent_price_on_special_days': Value(dtype='float64', id=None), 'rent_price_at_weekends': Value(dtype='float64', id=None), 'location_latitude': Value(dtype='float64', id=None), 'location_longitude': Value(dtype='float64', id=None), 'location_radius': Value(dtype='float64', id=None)}\n"
     ]
    }
   ],
   "source": [
    "# Print the first few examples\n",
    "print(dataset['train'][:5])\n",
    "\n",
    "# Get dataset statistics\n",
    "print(f\"Dataset size: {len(dataset['train'])} rows\")\n",
    "print(f\"Features: {dataset['train'].features}\")\n"
   ]
  },
  {
   "cell_type": "code",
   "execution_count": 30,
   "metadata": {},
   "outputs": [
    {
     "name": "stdout",
     "output_type": "stream",
     "text": [
      "<class 'pandas.core.frame.DataFrame'>\n",
      "RangeIndex: 1000000 entries, 0 to 999999\n",
      "Data columns (total 17 columns):\n",
      " #   Column                   Non-Null Count   Dtype  \n",
      "---  ------                   --------------   -----  \n",
      " 0   has_business_deed        0 non-null       boolean\n",
      " 1   has_balcony              506188 non-null  boolean\n",
      " 2   has_elevator             0 non-null       boolean\n",
      " 3   has_warehouse            0 non-null       boolean\n",
      " 4   has_parking              0 non-null       boolean\n",
      " 5   has_water                0 non-null       boolean\n",
      " 6   has_warm_water_provider  0 non-null       boolean\n",
      " 7   has_electricity          0 non-null       boolean\n",
      " 8   has_gas                  0 non-null       boolean\n",
      " 9   has_heating_system       0 non-null       boolean\n",
      " 10  has_cooling_system       0 non-null       boolean\n",
      " 11  has_restroom             0 non-null       boolean\n",
      " 12  has_security_guard       0 non-null       boolean\n",
      " 13  has_barbecue             0 non-null       boolean\n",
      " 14  has_pool                 0 non-null       boolean\n",
      " 15  has_jacuzzi              0 non-null       boolean\n",
      " 16  has_sauna                0 non-null       boolean\n",
      "dtypes: boolean(17)\n",
      "memory usage: 32.4 MB\n",
      "None\n"
     ]
    }
   ],
   "source": [
    "df = dataset['train'].to_pandas()\n",
    "\n",
    "# df.info()\n",
    "# df.describe()\n",
    "\n",
    "def to_bool(x):\n",
    "    if isinstance(x, str):\n",
    "        x = x.strip().lower()\n",
    "        if x in ['true', 'yes', '1', 'دارم']:  # Add any positive values here\n",
    "            return True\n",
    "        elif x in ['false', 'no', '0', 'ندارم']:  # Add negative values here\n",
    "            return False\n",
    "    elif pd.isna(x):\n",
    "        return pd.NA  # preserve missing\n",
    "    return pd.NA  # fallback to missing for anything else\n",
    "\n",
    "# Get all columns starting with 'has_'\n",
    "bool_cols = [col for col in df.columns if col.startswith('has_')]\n",
    "\n",
    "for col in bool_cols:\n",
    "    df[col] = df[col].apply(to_bool).astype('boolean')  # nullable boolean dtype\n",
    "\n",
    "print(df[bool_cols].info())\n",
    "\n",
    "# def to_bool(x):\n",
    "#     if isinstance(x, str):\n",
    "#         x = x.strip().lower()\n",
    "#         if x in ['true', 'yes', '1', 'دارم', 'true']:  # add Persian true variants\n",
    "#             return True\n",
    "#         elif x in ['false', 'no', '0', 'ندارم', 'false']:\n",
    "#             return False\n",
    "#     return None\n",
    "\n",
    "# bool_cols = ['has_elevator', 'has_balcony', 'has_pool', 'has_jacuzzi', 'has_storage_room', 'has_yard', 'has_parking']\n",
    "# for col in bool_cols:\n",
    "#     df[col] = df[col].apply(to_bool)"
   ]
  },
  {
   "cell_type": "code",
   "execution_count": 31,
   "metadata": {},
   "outputs": [
    {
     "name": "stdout",
     "output_type": "stream",
     "text": [
      "cat2_slug                     0.000000\n",
      "cat3_slug                     0.000001\n",
      "city_slug                     0.000002\n",
      "neighborhood_slug             0.562861\n",
      "created_at_month              0.000000\n",
      "user_type                     0.711118\n",
      "description                   0.000000\n",
      "title                         0.000054\n",
      "rent_mode                     0.647006\n",
      "rent_value                    0.648678\n",
      "rent_to_single                0.999981\n",
      "rent_type                     0.896039\n",
      "price_mode                    0.426394\n",
      "price_value                   0.431654\n",
      "credit_mode                   0.647006\n",
      "credit_value                  0.647905\n",
      "rent_credit_transform         0.647015\n",
      "transformable_price           0.647106\n",
      "transformable_credit          0.647915\n",
      "transformed_credit            0.927591\n",
      "transformable_rent            0.648752\n",
      "transformed_rent              0.927591\n",
      "land_size                     0.813604\n",
      "building_size                 0.019606\n",
      "deed_type                     0.746542\n",
      "has_business_deed             1.000000\n",
      "floor                         0.458252\n",
      "rooms_count                   0.154101\n",
      "total_floors_count            0.695648\n",
      "unit_per_floor                0.697717\n",
      "has_balcony                   0.493812\n",
      "has_elevator                  1.000000\n",
      "has_warehouse                 1.000000\n",
      "has_parking                   1.000000\n",
      "construction_year             0.184172\n",
      "is_rebuilt                    0.470530\n",
      "has_water                     1.000000\n",
      "has_warm_water_provider       1.000000\n",
      "has_electricity               1.000000\n",
      "has_gas                       1.000000\n",
      "has_heating_system            1.000000\n",
      "has_cooling_system            1.000000\n",
      "has_restroom                  1.000000\n",
      "has_security_guard            1.000000\n",
      "has_barbecue                  1.000000\n",
      "building_direction            0.676077\n",
      "has_pool                      1.000000\n",
      "has_jacuzzi                   1.000000\n",
      "has_sauna                     1.000000\n",
      "floor_material                0.594016\n",
      "property_type                 0.972943\n",
      "regular_person_capacity       0.970130\n",
      "extra_person_capacity         0.975991\n",
      "cost_per_extra_person         0.989759\n",
      "rent_price_on_regular_days    0.981932\n",
      "rent_price_on_special_days    0.989537\n",
      "rent_price_at_weekends        0.986449\n",
      "location_latitude             0.344392\n",
      "location_longitude            0.344392\n",
      "location_radius               0.660301\n",
      "dtype: float64\n"
     ]
    }
   ],
   "source": [
    "missing_rates = df.isnull().mean()\n",
    "print(missing_rates)"
   ]
  },
  {
   "cell_type": "code",
   "execution_count": 32,
   "metadata": {},
   "outputs": [],
   "source": [
    "# from scipy.stats import pearsonr\n",
    "\n",
    "# features = ['has_pool', 'has_jacuzzi', 'has_sauna', 'has_water', 'has_electricity', 'has_gas']\n",
    "\n",
    "# for feature in features:\n",
    "#     valid_rows = df[[feature, 'price_value']].dropna()\n",
    "    \n",
    "#     # Convert boolean or object columns to numeric for correlation calculation\n",
    "#     # If these columns are object dtype with 'True'/'False' or similar strings, convert them\n",
    "#     if valid_rows[feature].dtype == 'object':\n",
    "#         valid_rows[feature] = valid_rows[feature].map({'True': 1, 'False': 0})\n",
    "#     elif valid_rows[feature].dtype == 'bool':\n",
    "#         valid_rows[feature] = valid_rows[feature].astype(int)\n",
    "    \n",
    "#     corr, p_value = pearsonr(valid_rows[feature], valid_rows['price_value'])\n",
    "#     print(f\"{feature} -> Correlation: {corr:.6f}, p-value: {p_value:.6f}\")"
   ]
  },
  {
   "cell_type": "code",
   "execution_count": 33,
   "metadata": {},
   "outputs": [
    {
     "name": "stdout",
     "output_type": "stream",
     "text": [
      "<class 'pandas.core.frame.DataFrame'>\n",
      "RangeIndex: 1000000 entries, 0 to 999999\n",
      "Data columns (total 56 columns):\n",
      " #   Column                      Non-Null Count    Dtype  \n",
      "---  ------                      --------------    -----  \n",
      " 0   cat2_slug                   1000000 non-null  object \n",
      " 1   cat3_slug                   999999 non-null   object \n",
      " 2   city_slug                   999998 non-null   object \n",
      " 3   neighborhood_slug           437139 non-null   object \n",
      " 4   created_at_month            1000000 non-null  object \n",
      " 5   user_type                   288882 non-null   object \n",
      " 6   description                 1000000 non-null  object \n",
      " 7   title                       999946 non-null   object \n",
      " 8   rent_mode                   352994 non-null   object \n",
      " 9   rent_value                  351322 non-null   float64\n",
      " 10  rent_to_single              19 non-null       float64\n",
      " 11  rent_type                   103961 non-null   object \n",
      " 12  price_mode                  573606 non-null   object \n",
      " 13  price_value                 568346 non-null   float64\n",
      " 14  credit_mode                 352994 non-null   object \n",
      " 15  credit_value                352095 non-null   float64\n",
      " 16  rent_credit_transform       352985 non-null   object \n",
      " 17  transformable_price         352894 non-null   object \n",
      " 18  transformable_credit        352085 non-null   float64\n",
      " 19  transformed_credit          72409 non-null    float64\n",
      " 20  transformable_rent          351248 non-null   float64\n",
      " 21  transformed_rent            72409 non-null    float64\n",
      " 22  land_size                   186396 non-null   float64\n",
      " 23  building_size               980394 non-null   float64\n",
      " 24  deed_type                   253458 non-null   object \n",
      " 25  has_business_deed           0 non-null        boolean\n",
      " 26  floor                       541748 non-null   object \n",
      " 27  rooms_count                 845899 non-null   object \n",
      " 28  total_floors_count          304352 non-null   object \n",
      " 29  unit_per_floor              302283 non-null   object \n",
      " 30  has_balcony                 506188 non-null   boolean\n",
      " 31  has_elevator                0 non-null        boolean\n",
      " 32  has_warehouse               0 non-null        boolean\n",
      " 33  has_parking                 0 non-null        boolean\n",
      " 34  construction_year           815828 non-null   object \n",
      " 35  is_rebuilt                  529470 non-null   object \n",
      " 36  has_warm_water_provider     0 non-null        boolean\n",
      " 37  has_heating_system          0 non-null        boolean\n",
      " 38  has_cooling_system          0 non-null        boolean\n",
      " 39  has_restroom                0 non-null        boolean\n",
      " 40  has_security_guard          0 non-null        boolean\n",
      " 41  has_barbecue                0 non-null        boolean\n",
      " 42  building_direction          323923 non-null   object \n",
      " 43  floor_material              405984 non-null   object \n",
      " 44  property_type               27057 non-null    object \n",
      " 45  regular_person_capacity     29870 non-null    float64\n",
      " 46  extra_person_capacity       24009 non-null    object \n",
      " 47  cost_per_extra_person       10241 non-null    float64\n",
      " 48  rent_price_on_regular_days  18068 non-null    float64\n",
      " 49  rent_price_on_special_days  10463 non-null    float64\n",
      " 50  rent_price_at_weekends      13551 non-null    float64\n",
      " 51  location_latitude           655608 non-null   float64\n",
      " 52  location_longitude          655608 non-null   float64\n",
      " 53  location_radius             339699 non-null   float64\n",
      " 54  has_luxury_amenities        1000000 non-null  boolean\n",
      " 55  has_basic_utilities         1000000 non-null  boolean\n",
      "dtypes: boolean(13), float64(18), object(25)\n",
      "memory usage: 352.9+ MB\n"
     ]
    }
   ],
   "source": [
    "luxury_amenities = ['has_pool', 'has_jacuzzi', 'has_sauna']\n",
    "basic_utilities = ['has_water', 'has_electricity', 'has_gas']\n",
    "\n",
    "df['has_luxury_amenities'] = df[luxury_amenities].fillna(False).any(axis=1)\n",
    "df['has_basic_utilities'] = df[basic_utilities].fillna(False).any(axis=1)\n",
    "\n",
    "# dropping the orginals to reduce sparcity\n",
    "df.drop(columns=luxury_amenities + basic_utilities, inplace=True)\n",
    "\n",
    "df.info()"
   ]
  },
  {
   "cell_type": "code",
   "execution_count": 34,
   "metadata": {},
   "outputs": [
    {
     "name": "stdout",
     "output_type": "stream",
     "text": [
      "Correlation: nan, p-value: nan\n"
     ]
    },
    {
     "name": "stderr",
     "output_type": "stream",
     "text": [
      "/home/arash/.pyenv/versions/3.11.11/lib/python3.11/site-packages/scipy/stats/_stats_py.py:5405: ConstantInputWarning: An input array is constant; the correlation coefficient is not defined.\n",
      "  rpb, prob = pearsonr(x, y)\n"
     ]
    }
   ],
   "source": [
    "# correlation with price_value (numeric target)\n",
    "from scipy.stats import pointbiserialr\n",
    "\n",
    "corr, p_value = pointbiserialr(df['has_luxury_amenities'], df['price_value'].fillna(0))\n",
    "print(f\"Correlation: {corr}, p-value: {p_value}\")"
   ]
  }
 ],
 "metadata": {
  "kernelspec": {
   "display_name": "3.11.11",
   "language": "python",
   "name": "python3"
  },
  "language_info": {
   "codemirror_mode": {
    "name": "ipython",
    "version": 3
   },
   "file_extension": ".py",
   "mimetype": "text/x-python",
   "name": "python",
   "nbconvert_exporter": "python",
   "pygments_lexer": "ipython3",
   "version": "3.11.11"
  }
 },
 "nbformat": 4,
 "nbformat_minor": 2
}
