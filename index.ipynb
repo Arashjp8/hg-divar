{
 "cells": [
  {
   "cell_type": "code",
   "execution_count": null,
   "metadata": {},
   "outputs": [
    {
     "data": {
      "application/vnd.jupyter.widget-view+json": {
       "model_id": "db46f47c787a41a18f69b4da172f8c5e",
       "version_major": 2,
       "version_minor": 0
      },
      "text/plain": [
       "real_estate_ads.csv:  29%|##9       | 325M/1.11G [00:00<?, ?B/s]"
      ]
     },
     "metadata": {},
     "output_type": "display_data"
    },
    {
     "data": {
      "application/vnd.jupyter.widget-view+json": {
       "model_id": "5636a85912344e53b21d980bbe0b016a",
       "version_major": 2,
       "version_minor": 0
      },
      "text/plain": [
       "Generating train split:   0%|          | 0/1000000 [00:00<?, ? examples/s]"
      ]
     },
     "metadata": {},
     "output_type": "display_data"
    }
   ],
   "source": [
    "from datasets import load_dataset\n",
    "import pandas as pd\n",
    "\n",
    "dataset = load_dataset(\"divarofficial/real_estate_ads\")"
   ]
  },
  {
   "cell_type": "code",
   "execution_count": 8,
   "metadata": {},
   "outputs": [
    {
     "name": "stdout",
     "output_type": "stream",
     "text": [
      "{'cat2_slug': ['temporary-rent', 'residential-sell', 'residential-rent', 'commercial-rent', 'residential-sell'], 'cat3_slug': ['villa', 'apartment-sell', 'apartment-rent', 'office-rent', 'apartment-sell'], 'city_slug': ['karaj', 'tehran', 'tehran', 'tehran', 'mashhad'], 'neighborhood_slug': ['mehrshahr', 'gholhak', 'tohid', 'elahiyeh', 'emamreza'], 'created_at_month': ['2024-08-01 00:00:00', '2024-05-01 00:00:00', '2024-10-01 00:00:00', '2024-06-01 00:00:00', '2024-05-01 00:00:00'], 'user_type': ['مشاور املاک', 'مشاور املاک', None, None, 'مشاور املاک'], 'description': ['۵۰۰متر\\n۲۰۰متر بنا دوبلکس\\n۳خواب\\nاستخر آبگرم داخل\\nسیستم صوتی حرفه ای\\nسرگرمی ایرهاکی\\nبرای اطلاعات بیشتر تماس حاصل فرماید', 'دسترسی عالی به مترو و شریعتی \\nمشاعات تمیز \\nبدون ایراد \\nآخرین بازدید \\nفروشنده واقعی\\nشایان', 'تخلیه پایان ماه', 'فرشته تاپ لوکیشن\\n۹۰ متر موقعیت اداری\\nیک اتاق مستر\\nدید و وییو مشجر\\nروبه باغ\\nنور و نقشه عالی\\nلابی و لابی من و سرایدار مقیم\\nلوکس و شیک\\nمدرن\\nهمه مشاغل\\nبازدید = با قرار داد\\nفایل کاملا شخصی\\nکلید نزد املاک است\\nمجید پارسا', 'هلدینگ ساختمانی اکبری\\n\\nهمراه شما هستیم برای خریدی مطمئن\\n\\nکلید موجود اولین بازدید ۱۰۰ در ۱۰۰ پسند\\n\\nمشخصات ملک:\\n✨صفر کلید نخورده\\n\\n✨مشاعات تمام سنگ\\n\\n✨واحد رو به آفتاب\\n\\n✨پذیرایی سرتاسر پنجره\\n\\n✨اتاق ها هر دو\\u200c نورگیر همرا به تراس رویایی\\n\\n✨آشپزخانه تمام چوب با نقشه عالی\\n——————————————————\\n\\n✨با ارائه مشاوره تخصصی املاک در خدمت شما هستیم \\nمشاور شما : ایرانی\\n( ۲۴ ساعته پاسخگوی شما عزیزان هستم)✨\\n\\n⁉️برای دریافت اطلاعات بیشتر ،نحوه پرداخت و بازدید☎️ تماس حاصل فرمایید'], 'title': ['باغ ویلا اجاره روزانه استخر داخل لشکرآباد سهیلیه', '۶۰ متر قلهک فول امکانات', 'آپارتمان ۳ خوابه ۱۳۲ متر', 'فرشته ۹۰ متر دفتر کار مدرن موقعیت اداری', '۱۱۵ متری/شمالی رو به آفتاب/اکبری'], 'rent_mode': [None, None, 'مقطوع', 'مقطوع', None], 'rent_value': [None, None, 26000000.0, 95000000.0, None], 'rent_to_single': [None, None, None, None, None], 'rent_type': [None, None, None, None, None], 'price_mode': [None, 'مقطوع', None, None, 'مقطوع'], 'price_value': [None, 8500000000.0, None, None, 5750000000.0], 'credit_mode': [None, None, 'مقطوع', 'مقطوع', None], 'credit_value': [None, None, 750000000.0, 950000000.0, None], 'rent_credit_transform': [None, None, False, False, None], 'transformable_price': [None, None, False, False, None], 'transformable_credit': [None, None, 750000000.0, 950000000.0, None], 'transformed_credit': [None, None, None, None, None], 'transformable_rent': [None, None, 26000000.0, 95000000.0, None], 'transformed_rent': [None, None, None, None, None], 'land_size': [None, None, None, None, None], 'building_size': [500.0, 60.0, 132.0, 90.0, 115.0], 'deed_type': [None, None, None, None, 'single_page'], 'has_business_deed': [None, None, None, None, None], 'floor': [None, '3', '3', '4', '4'], 'rooms_count': ['سه', 'یک', 'سه', 'یک', 'دو'], 'total_floors_count': [None, None, None, None, '6'], 'unit_per_floor': [None, None, None, None, None], 'has_balcony': [None, None, None, None, 'true'], 'has_elevator': [None, True, True, True, True], 'has_warehouse': [None, True, True, False, True], 'has_parking': [None, True, True, True, True], 'construction_year': [None, '۱۳۸۴', '۱۴۰۱', '۱۴۰۰', '۱۴۰۳'], 'is_rebuilt': [None, None, False, None, None], 'has_water': [None, None, None, None, None], 'has_warm_water_provider': [None, None, None, None, 'package'], 'has_electricity': [None, None, None, None, None], 'has_gas': [None, None, None, None, None], 'has_heating_system': [None, None, None, None, 'shoofaj'], 'has_cooling_system': [None, None, None, None, 'air_conditioner'], 'has_restroom': [None, None, None, None, 'squat_seat'], 'has_security_guard': [None, None, None, None, None], 'has_barbecue': [None, None, None, None, None], 'building_direction': [None, None, None, None, 'north'], 'has_pool': [None, None, None, None, None], 'has_jacuzzi': [None, None, None, None, None], 'has_sauna': [None, None, None, None, None], 'floor_material': [None, None, None, None, 'ceramic'], 'property_type': [None, None, None, None, None], 'regular_person_capacity': [4.0, None, None, None, None], 'extra_person_capacity': ['6', None, None, None, None], 'cost_per_extra_person': [350000.0, None, None, None, None], 'rent_price_on_regular_days': [1500000.0, None, None, None, None], 'rent_price_on_special_days': [3500000000.0, None, None, None, None], 'rent_price_at_weekends': [3500000.0, None, None, None, None], 'location_latitude': [35.81168365478516, None, 35.70386505126953, None, None], 'location_longitude': [50.93659973144531, None, 51.37345886230469, None, None], 'location_radius': [500.0, 500.0, None, None, None]}\n",
      "Dataset size: 1000000 rows\n",
      "Features: {'cat2_slug': Value(dtype='string', id=None), 'cat3_slug': Value(dtype='string', id=None), 'city_slug': Value(dtype='string', id=None), 'neighborhood_slug': Value(dtype='string', id=None), 'created_at_month': Value(dtype='string', id=None), 'user_type': Value(dtype='string', id=None), 'description': Value(dtype='string', id=None), 'title': Value(dtype='string', id=None), 'rent_mode': Value(dtype='string', id=None), 'rent_value': Value(dtype='float64', id=None), 'rent_to_single': Value(dtype='float64', id=None), 'rent_type': Value(dtype='string', id=None), 'price_mode': Value(dtype='string', id=None), 'price_value': Value(dtype='float64', id=None), 'credit_mode': Value(dtype='string', id=None), 'credit_value': Value(dtype='float64', id=None), 'rent_credit_transform': Value(dtype='bool', id=None), 'transformable_price': Value(dtype='bool', id=None), 'transformable_credit': Value(dtype='float64', id=None), 'transformed_credit': Value(dtype='float64', id=None), 'transformable_rent': Value(dtype='float64', id=None), 'transformed_rent': Value(dtype='float64', id=None), 'land_size': Value(dtype='float64', id=None), 'building_size': Value(dtype='float64', id=None), 'deed_type': Value(dtype='string', id=None), 'has_business_deed': Value(dtype='bool', id=None), 'floor': Value(dtype='string', id=None), 'rooms_count': Value(dtype='string', id=None), 'total_floors_count': Value(dtype='string', id=None), 'unit_per_floor': Value(dtype='string', id=None), 'has_balcony': Value(dtype='string', id=None), 'has_elevator': Value(dtype='bool', id=None), 'has_warehouse': Value(dtype='bool', id=None), 'has_parking': Value(dtype='bool', id=None), 'construction_year': Value(dtype='string', id=None), 'is_rebuilt': Value(dtype='bool', id=None), 'has_water': Value(dtype='bool', id=None), 'has_warm_water_provider': Value(dtype='string', id=None), 'has_electricity': Value(dtype='bool', id=None), 'has_gas': Value(dtype='bool', id=None), 'has_heating_system': Value(dtype='string', id=None), 'has_cooling_system': Value(dtype='string', id=None), 'has_restroom': Value(dtype='string', id=None), 'has_security_guard': Value(dtype='bool', id=None), 'has_barbecue': Value(dtype='bool', id=None), 'building_direction': Value(dtype='string', id=None), 'has_pool': Value(dtype='bool', id=None), 'has_jacuzzi': Value(dtype='bool', id=None), 'has_sauna': Value(dtype='bool', id=None), 'floor_material': Value(dtype='string', id=None), 'property_type': Value(dtype='string', id=None), 'regular_person_capacity': Value(dtype='float64', id=None), 'extra_person_capacity': Value(dtype='string', id=None), 'cost_per_extra_person': Value(dtype='float64', id=None), 'rent_price_on_regular_days': Value(dtype='float64', id=None), 'rent_price_on_special_days': Value(dtype='float64', id=None), 'rent_price_at_weekends': Value(dtype='float64', id=None), 'location_latitude': Value(dtype='float64', id=None), 'location_longitude': Value(dtype='float64', id=None), 'location_radius': Value(dtype='float64', id=None)}\n"
     ]
    }
   ],
   "source": [
    "# Print the first few examples\n",
    "print(dataset['train'][:5])\n",
    "\n",
    "# Get dataset statistics\n",
    "print(f\"Dataset size: {len(dataset['train'])} rows\")\n",
    "print(f\"Features: {dataset['train'].features}\")\n"
   ]
  },
  {
   "cell_type": "markdown",
   "metadata": {},
   "source": [
    "Checking for duplicates."
   ]
  },
  {
   "cell_type": "code",
   "execution_count": null,
   "metadata": {},
   "outputs": [
    {
     "name": "stdout",
     "output_type": "stream",
     "text": [
      "Duplicates before drop: 0\n",
      "Duplicates after drop: 0\n",
      "<class 'pandas.core.frame.DataFrame'>\n",
      "RangeIndex: 1000000 entries, 0 to 999999\n",
      "Data columns (total 58 columns):\n",
      " #   Column                      Non-Null Count    Dtype  \n",
      "---  ------                      --------------    -----  \n",
      " 0   cat2_slug                   1000000 non-null  object \n",
      " 1   cat3_slug                   999999 non-null   object \n",
      " 2   city_slug                   999998 non-null   object \n",
      " 3   neighborhood_slug           437139 non-null   object \n",
      " 4   created_at_month            1000000 non-null  object \n",
      " 5   user_type                   288882 non-null   object \n",
      " 6   rent_mode                   352994 non-null   object \n",
      " 7   rent_value                  351322 non-null   float64\n",
      " 8   rent_to_single              19 non-null       float64\n",
      " 9   rent_type                   103961 non-null   object \n",
      " 10  price_mode                  573606 non-null   object \n",
      " 11  price_value                 568346 non-null   float64\n",
      " 12  credit_mode                 352994 non-null   object \n",
      " 13  credit_value                352095 non-null   float64\n",
      " 14  rent_credit_transform       352985 non-null   object \n",
      " 15  transformable_price         352894 non-null   object \n",
      " 16  transformable_credit        352085 non-null   float64\n",
      " 17  transformed_credit          72409 non-null    float64\n",
      " 18  transformable_rent          351248 non-null   float64\n",
      " 19  transformed_rent            72409 non-null    float64\n",
      " 20  land_size                   186396 non-null   float64\n",
      " 21  building_size               980394 non-null   float64\n",
      " 22  deed_type                   253458 non-null   object \n",
      " 23  has_business_deed           34679 non-null    object \n",
      " 24  floor                       541748 non-null   object \n",
      " 25  rooms_count                 845899 non-null   object \n",
      " 26  total_floors_count          304352 non-null   object \n",
      " 27  unit_per_floor              302283 non-null   object \n",
      " 28  has_balcony                 506411 non-null   object \n",
      " 29  has_elevator                541749 non-null   object \n",
      " 30  has_warehouse               728155 non-null   object \n",
      " 31  has_parking                 728156 non-null   object \n",
      " 32  construction_year           815828 non-null   object \n",
      " 33  is_rebuilt                  529470 non-null   object \n",
      " 34  has_water                   33444 non-null    object \n",
      " 35  has_warm_water_provider     379500 non-null   object \n",
      " 36  has_electricity             33445 non-null    object \n",
      " 37  has_gas                     33430 non-null    object \n",
      " 38  has_heating_system          368969 non-null   object \n",
      " 39  has_cooling_system          350619 non-null   object \n",
      " 40  has_restroom                406913 non-null   object \n",
      " 41  has_security_guard          31312 non-null    object \n",
      " 42  has_barbecue                31198 non-null    object \n",
      " 43  building_direction          323923 non-null   object \n",
      " 44  has_pool                    29390 non-null    object \n",
      " 45  has_jacuzzi                 28728 non-null    object \n",
      " 46  has_sauna                   28479 non-null    object \n",
      " 47  floor_material              405984 non-null   object \n",
      " 48  property_type               27057 non-null    object \n",
      " 49  regular_person_capacity     29870 non-null    float64\n",
      " 50  extra_person_capacity       24009 non-null    object \n",
      " 51  cost_per_extra_person       10241 non-null    float64\n",
      " 52  rent_price_on_regular_days  18068 non-null    float64\n",
      " 53  rent_price_on_special_days  10463 non-null    float64\n",
      " 54  rent_price_at_weekends      13551 non-null    float64\n",
      " 55  location_latitude           655608 non-null   float64\n",
      " 56  location_longitude          655608 non-null   float64\n",
      " 57  location_radius             339699 non-null   float64\n",
      "dtypes: float64(18), object(40)\n",
      "memory usage: 442.5+ MB\n",
      "None\n",
      "          cat2_slug       cat3_slug city_slug neighborhood_slug  \\\n",
      "0    temporary-rent           villa     karaj         mehrshahr   \n",
      "1  residential-sell  apartment-sell    tehran           gholhak   \n",
      "2  residential-rent  apartment-rent    tehran             tohid   \n",
      "3   commercial-rent     office-rent    tehran          elahiyeh   \n",
      "4  residential-sell  apartment-sell   mashhad          emamreza   \n",
      "\n",
      "      created_at_month    user_type rent_mode  rent_value  rent_to_single  \\\n",
      "0  2024-08-01 00:00:00  مشاور املاک      None         NaN             NaN   \n",
      "1  2024-05-01 00:00:00  مشاور املاک      None         NaN             NaN   \n",
      "2  2024-10-01 00:00:00         None     مقطوع  26000000.0             NaN   \n",
      "3  2024-06-01 00:00:00         None     مقطوع  95000000.0             NaN   \n",
      "4  2024-05-01 00:00:00  مشاور املاک      None         NaN             NaN   \n",
      "\n",
      "  rent_type  ... property_type  regular_person_capacity extra_person_capacity  \\\n",
      "0      None  ...          None                      4.0                     6   \n",
      "1      None  ...          None                      NaN                  None   \n",
      "2      None  ...          None                      NaN                  None   \n",
      "3      None  ...          None                      NaN                  None   \n",
      "4      None  ...          None                      NaN                  None   \n",
      "\n",
      "   cost_per_extra_person rent_price_on_regular_days  \\\n",
      "0               350000.0                  1500000.0   \n",
      "1                    NaN                        NaN   \n",
      "2                    NaN                        NaN   \n",
      "3                    NaN                        NaN   \n",
      "4                    NaN                        NaN   \n",
      "\n",
      "  rent_price_on_special_days  rent_price_at_weekends  location_latitude  \\\n",
      "0               3.500000e+09               3500000.0          35.811684   \n",
      "1                        NaN                     NaN                NaN   \n",
      "2                        NaN                     NaN          35.703865   \n",
      "3                        NaN                     NaN                NaN   \n",
      "4                        NaN                     NaN                NaN   \n",
      "\n",
      "   location_longitude  location_radius  \n",
      "0           50.936600            500.0  \n",
      "1                 NaN            500.0  \n",
      "2           51.373459              NaN  \n",
      "3                 NaN              NaN  \n",
      "4                 NaN              NaN  \n",
      "\n",
      "[5 rows x 58 columns]\n"
     ]
    }
   ],
   "source": [
    "df = dataset['train'].to_pandas()\n",
    "\n",
    "# check for duplicates\n",
    "print(f\"Duplicates before drop: {df.duplicated().sum()}\")\n",
    "df = df.drop_duplicates()\n",
    "print(f\"Duplicates after drop: {df.duplicated().sum()}\")\n",
    "\n",
    "# drop columns if irrelevant\n",
    "cols_to_drop = ['title', 'description']  # drop these unless NLP needed\n",
    "df = df.drop(columns=cols_to_drop)\n",
    "\n",
    "print(df.info())\n",
    "print(df.head())"
   ]
  },
  {
   "cell_type": "code",
   "execution_count": null,
   "metadata": {},
   "outputs": [],
   "source": [
    "luxury_amenities = ['has_pool', 'has_jacuzzi', 'has_sauna']\n",
    "basic_utilities = ['has_water', 'has_electricity', 'has_gas']\n",
    "\n",
    "df['has_luxury_amenities'] = df[luxury_amenities].fillna(False).any(axis=1)\n",
    "df['has_basic_utilities'] = df[basic_utilities].fillna(False).any(axis=1)\n",
    "\n",
    "# dropping the orginals to reduce sparcity\n",
    "df.drop(columns=luxury_amenities + basic_utilities, inplace=True)\n",
    "\n",
    "df.info()"
   ]
  }
 ],
 "metadata": {
  "kernelspec": {
   "display_name": "3.11.11",
   "language": "python",
   "name": "python3"
  },
  "language_info": {
   "codemirror_mode": {
    "name": "ipython",
    "version": 3
   },
   "file_extension": ".py",
   "mimetype": "text/x-python",
   "name": "python",
   "nbconvert_exporter": "python",
   "pygments_lexer": "ipython3",
   "version": "3.11.11"
  }
 },
 "nbformat": 4,
 "nbformat_minor": 2
}
